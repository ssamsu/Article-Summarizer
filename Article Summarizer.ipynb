{
 "cells": [
  {
   "cell_type": "markdown",
   "metadata": {},
   "source": [
    "# Times of India - Article Summarize \n",
    "    Get summary of any articles in Times of India (timesofindia.indiatimes.com)\n",
    "NOTE: You can use this for any website, all you have to do is edit the 'soup.find()' according to your site  in 'extractText(url)' function"
   ]
  },
  {
   "cell_type": "code",
   "execution_count": 1,
   "metadata": {
    "collapsed": true
   },
   "outputs": [],
   "source": [
    "from bs4 import BeautifulSoup\n",
    "from collections import defaultdict\n",
    "from nltk.corpus import stopwords\n",
    "from nltk.probability import FreqDist\n",
    "from nltk.tokenize import word_tokenize, sent_tokenize\n",
    "from string import punctuation\n",
    "import urllib\n",
    "\n",
    "# Get HTML content for a given 'url', parse it using BeautifullSoup and finally get the article text content from 'arttextxml' tag\n",
    "def extractText(url):\n",
    "    page = urllib.request.urlopen(url).read().decode('utf8','ignore') \n",
    "    soup = BeautifulSoup(page,\"lxml\")\n",
    "    text = soup.find('arttextxml').text.replace(\"\\n\",\"\")\n",
    "    return text"
   ]
  },
  {
   "cell_type": "code",
   "execution_count": 2,
   "metadata": {
    "collapsed": true
   },
   "outputs": [],
   "source": [
    "# Get the summary (with 'N' lines) for the given 'text'\n",
    "def summarizer(text, N):\n",
    "    # Get the list of sentences from the given text    \n",
    "    sentence_list = sent_tokenize(text.lower())\n",
    "    # Check whether text has required number of sentences.\n",
    "    if N > len(sentence_list):\n",
    "        raise Exception('Number of sentences in the articles is less than the required number of sentences in summary!')\n",
    "    # Get the list of words from the given text   \n",
    "    word_list = word_tokenize(text.lower())\n",
    "\n",
    "    # special_words are used to remove unwanted words in content from times of india\n",
    "    special_words = [\"'s\", '``', \"''\"]\n",
    "    # filter_words has the final list of words that should be filtered from the word_list    \n",
    "    filter_words = set(stopwords.words('english') + list(punctuation) + special_words)\n",
    "    # nonstopword_list has the valid words that is required for processing\n",
    "    nonstopword_list = [word for word in word_list if word not in filter_words]\n",
    "    \n",
    "    # FreqDist is used to generate a dictionary with frequency distribution from the given list of word\n",
    "    word_freq = FreqDist(nonstopword_list)\n",
    "    ranking = defaultdict(int)\n",
    "    \n",
    "    # At the end of the for loop, 'ranking' will have a dictionary whose 'key' will be sentence index and 'value' will be the score that was calucated from word_freq\n",
    "    for i, sentence in enumerate(sentence_list):\n",
    "        for word in word_tokenize(sentence.lower()):\n",
    "            if word in word_freq:\n",
    "                ranking[i] += word_freq[word]\n",
    "\n",
    "    # Considers only the top N sentences based on the 'ranking'  \n",
    "    sentence_index = sorted(ranking, key=ranking.get, reverse=True)[:N]\n",
    "    return [sentence_list[index] for index in sorted(sentence_index)]"
   ]
  },
  {
   "cell_type": "code",
   "execution_count": 3,
   "metadata": {
    "collapsed": false
   },
   "outputs": [
    {
     "data": {
      "text/plain": [
       "['  shenyang: china faced sustained international pressure on thursday to let cancer-stricken nobel laureate liu xiaobo seek treatment abroad, as official hospital updates suggest the democracy champion is close to death.',\n",
       " 'the doctors said liu needed to be on artificial ventilation to be kept alive, but his family declined, according to the first hospital of china medical university in the northeastern city of shenyang.',\n",
       " 'a german and a us doctor visited liu last weekend and said he was still strong enough to fulfil his wish to travel overseas, but the hospital has issued increasingly pessimistic reports every day since then.']"
      ]
     },
     "execution_count": 3,
     "metadata": {},
     "output_type": "execute_result"
    }
   ],
   "source": [
    "articleURL = \"http://timesofindia.indiatimes.com/world/china/china-under-pressure-to-free-ailing-nobel-laureate/articleshow/59574334.cms\"\n",
    "text = extractText(articleURL)\n",
    "summarizer(text, 3)"
   ]
  },
  {
   "cell_type": "code",
   "execution_count": null,
   "metadata": {
    "collapsed": true
   },
   "outputs": [],
   "source": []
  }
 ],
 "metadata": {
  "kernelspec": {
   "display_name": "Python 3",
   "language": "python",
   "name": "python3"
  },
  "language_info": {
   "codemirror_mode": {
    "name": "ipython",
    "version": 3
   },
   "file_extension": ".py",
   "mimetype": "text/x-python",
   "name": "python",
   "nbconvert_exporter": "python",
   "pygments_lexer": "ipython3",
   "version": "3.5.2"
  }
 },
 "nbformat": 4,
 "nbformat_minor": 0
}
